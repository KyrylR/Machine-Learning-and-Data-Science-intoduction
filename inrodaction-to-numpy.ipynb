{
 "cells": [
  {
   "cell_type": "code",
   "execution_count": 2,
   "id": "d8d4a93f",
   "metadata": {},
   "outputs": [],
   "source": [
    "import numpy as np"
   ]
  },
  {
   "cell_type": "markdown",
   "id": "9f1b6ec4",
   "metadata": {},
   "source": [
    "## DataTypes & Attributes"
   ]
  },
  {
   "cell_type": "code",
   "execution_count": 3,
   "id": "81d15eb9",
   "metadata": {},
   "outputs": [
    {
     "data": {
      "text/plain": [
       "array([1, 2, 3])"
      ]
     },
     "execution_count": 3,
     "metadata": {},
     "output_type": "execute_result"
    }
   ],
   "source": [
    "# NumPy's main datatype is ndarray\n",
    "a1 = np.array([1, 2, 3])\n",
    "a1"
   ]
  },
  {
   "cell_type": "code",
   "execution_count": 4,
   "id": "10d96806",
   "metadata": {},
   "outputs": [
    {
     "data": {
      "text/plain": [
       "numpy.ndarray"
      ]
     },
     "execution_count": 4,
     "metadata": {},
     "output_type": "execute_result"
    }
   ],
   "source": [
    "type(a1)"
   ]
  },
  {
   "cell_type": "code",
   "execution_count": 5,
   "id": "ec859535",
   "metadata": {},
   "outputs": [
    {
     "data": {
      "text/plain": [
       "(array([[1. , 2. , 3. ],\n",
       "        [4. , 5.2, 6.4]]),\n",
       " array([[[ 1,  2,  3],\n",
       "         [ 4,  5,  6],\n",
       "         [ 7,  8,  9],\n",
       "         [19,  1,  1]],\n",
       " \n",
       "        [[10, 11, 12],\n",
       "         [13, 14, 15],\n",
       "         [16, 17, 18],\n",
       "         [19,  1,  1]]]))"
      ]
     },
     "execution_count": 5,
     "metadata": {},
     "output_type": "execute_result"
    }
   ],
   "source": [
    "a2 = np.array([[1, 2.0, 3],\n",
    "              [4, 5.2, 6.4]])\n",
    "\n",
    "a3 = np.array([[[1, 2, 3],\n",
    "                [4, 5, 6],\n",
    "                [7, 8, 9],\n",
    "                [19, 1, 1]],\n",
    "               \n",
    "                [[10, 11, 12],\n",
    "                 [13, 14, 15],\n",
    "                 [16, 17, 18],\n",
    "                 [19, 1, 1]]])\n",
    "a2, a3"
   ]
  },
  {
   "cell_type": "code",
   "execution_count": 6,
   "id": "ec80bb6a",
   "metadata": {},
   "outputs": [
    {
     "data": {
      "text/plain": [
       "(array([[11, 13, 15],\n",
       "        [17, 19, 21],\n",
       "        [23, 25, 27],\n",
       "        [38,  2,  2]]),\n",
       " (3,))"
      ]
     },
     "execution_count": 6,
     "metadata": {},
     "output_type": "execute_result"
    }
   ],
   "source": [
    "np.sum(a3, axis = 0), a1.shape"
   ]
  },
  {
   "cell_type": "code",
   "execution_count": 7,
   "id": "faee2b27",
   "metadata": {},
   "outputs": [
    {
     "data": {
      "text/plain": [
       "(1, 2, 3)"
      ]
     },
     "execution_count": 7,
     "metadata": {},
     "output_type": "execute_result"
    }
   ],
   "source": [
    "a1.ndim, a2.ndim, a3.ndim"
   ]
  },
  {
   "cell_type": "code",
   "execution_count": 8,
   "id": "158c867a",
   "metadata": {},
   "outputs": [
    {
     "data": {
      "text/plain": [
       "(dtype('int32'), dtype('float64'), dtype('int32'))"
      ]
     },
     "execution_count": 8,
     "metadata": {},
     "output_type": "execute_result"
    }
   ],
   "source": [
    "a1.dtype, a2.dtype, a3.dtype"
   ]
  },
  {
   "cell_type": "code",
   "execution_count": 9,
   "id": "d02f7906",
   "metadata": {},
   "outputs": [
    {
     "data": {
      "text/plain": [
       "(3, 6, 24)"
      ]
     },
     "execution_count": 9,
     "metadata": {},
     "output_type": "execute_result"
    }
   ],
   "source": [
    "a1.size, a2.size, a3.size"
   ]
  },
  {
   "cell_type": "code",
   "execution_count": 10,
   "id": "3aaae3f7",
   "metadata": {},
   "outputs": [
    {
     "data": {
      "text/plain": [
       "(numpy.ndarray, numpy.ndarray, numpy.ndarray)"
      ]
     },
     "execution_count": 10,
     "metadata": {},
     "output_type": "execute_result"
    }
   ],
   "source": [
    "type(a1), type(a2), type(a3)"
   ]
  },
  {
   "cell_type": "code",
   "execution_count": 11,
   "id": "f25caecd",
   "metadata": {},
   "outputs": [
    {
     "data": {
      "text/html": [
       "<div>\n",
       "<style scoped>\n",
       "    .dataframe tbody tr th:only-of-type {\n",
       "        vertical-align: middle;\n",
       "    }\n",
       "\n",
       "    .dataframe tbody tr th {\n",
       "        vertical-align: top;\n",
       "    }\n",
       "\n",
       "    .dataframe thead th {\n",
       "        text-align: right;\n",
       "    }\n",
       "</style>\n",
       "<table border=\"1\" class=\"dataframe\">\n",
       "  <thead>\n",
       "    <tr style=\"text-align: right;\">\n",
       "      <th></th>\n",
       "      <th>0</th>\n",
       "      <th>1</th>\n",
       "      <th>2</th>\n",
       "    </tr>\n",
       "  </thead>\n",
       "  <tbody>\n",
       "    <tr>\n",
       "      <th>0</th>\n",
       "      <td>1.0</td>\n",
       "      <td>2.0</td>\n",
       "      <td>3.0</td>\n",
       "    </tr>\n",
       "    <tr>\n",
       "      <th>1</th>\n",
       "      <td>4.0</td>\n",
       "      <td>5.2</td>\n",
       "      <td>6.4</td>\n",
       "    </tr>\n",
       "  </tbody>\n",
       "</table>\n",
       "</div>"
      ],
      "text/plain": [
       "     0    1    2\n",
       "0  1.0  2.0  3.0\n",
       "1  4.0  5.2  6.4"
      ]
     },
     "execution_count": 11,
     "metadata": {},
     "output_type": "execute_result"
    }
   ],
   "source": [
    "# Create a dataframe from numPy array\n",
    "import pandas as pd \n",
    "df = pd.DataFrame(a2)\n",
    "df"
   ]
  },
  {
   "cell_type": "markdown",
   "id": "2921698d",
   "metadata": {},
   "source": [
    "## 2. Creating arrays"
   ]
  },
  {
   "cell_type": "code",
   "execution_count": 12,
   "id": "452469d7",
   "metadata": {},
   "outputs": [
    {
     "data": {
      "text/plain": [
       "(array([1, 2, 3]), numpy.ndarray)"
      ]
     },
     "execution_count": 12,
     "metadata": {},
     "output_type": "execute_result"
    }
   ],
   "source": [
    "sample_array = np.array([1, 2, 3])\n",
    "sample_array, type(sample_array)"
   ]
  },
  {
   "cell_type": "code",
   "execution_count": 13,
   "id": "5a206864",
   "metadata": {},
   "outputs": [
    {
     "data": {
      "text/plain": [
       "(array([[1., 1.],\n",
       "        [1., 1.]]),\n",
       " array([[0., 0.],\n",
       "        [0., 0.]]))"
      ]
     },
     "execution_count": 13,
     "metadata": {},
     "output_type": "execute_result"
    }
   ],
   "source": [
    "ones = np.ones((2, 2))\n",
    "zeros = np.zeros((2, 2))\n",
    "ones, zeros"
   ]
  },
  {
   "cell_type": "code",
   "execution_count": 14,
   "id": "a51ec9b9",
   "metadata": {},
   "outputs": [
    {
     "data": {
      "text/plain": [
       "(array([5, 4, 3, 2]),\n",
       " array([[2, 4, 5, 3, 5],\n",
       "        [4, 8, 7, 9, 1],\n",
       "        [2, 5, 9, 9, 6],\n",
       "        [1, 0, 0, 5, 0],\n",
       "        [5, 7, 4, 7, 0]]))"
      ]
     },
     "execution_count": 14,
     "metadata": {},
     "output_type": "execute_result"
    }
   ],
   "source": [
    "range_array = np.arange(5, 1, -1)\n",
    "random_array = np.random.randint(0, 10, size=(5, 5))\n",
    "range_array, random_array"
   ]
  },
  {
   "cell_type": "code",
   "execution_count": 15,
   "id": "d3e415e7",
   "metadata": {},
   "outputs": [
    {
     "data": {
      "text/plain": [
       "(array([[0.84535487, 0.38599071],\n",
       "        [0.34715714, 0.84314711]]),\n",
       " array([[[0.74224605, 0.3285066 ],\n",
       "         [0.74151447, 0.90517314]]]))"
      ]
     },
     "execution_count": 15,
     "metadata": {},
     "output_type": "execute_result"
    }
   ],
   "source": [
    "np.random.random((2, 2)), np.random.rand(1,2,2)"
   ]
  },
  {
   "cell_type": "code",
   "execution_count": 16,
   "id": "17368958",
   "metadata": {},
   "outputs": [
    {
     "data": {
      "text/plain": [
       "array([[0, 3, 1],\n",
       "       [8, 1, 3],\n",
       "       [8, 5, 6],\n",
       "       [0, 6, 0],\n",
       "       [4, 0, 9]])"
      ]
     },
     "execution_count": 16,
     "metadata": {},
     "output_type": "execute_result"
    }
   ],
   "source": [
    "# Pseudo-random numbers\n",
    "np.random.seed(seed=99999)\n",
    "np.random.randint(10, size=(5, 3))"
   ]
  },
  {
   "cell_type": "markdown",
   "id": "9777259f",
   "metadata": {},
   "source": [
    "## Viewing arrays and matrices"
   ]
  },
  {
   "cell_type": "code",
   "execution_count": 17,
   "id": "7c624bc5",
   "metadata": {},
   "outputs": [
    {
     "data": {
      "text/plain": [
       "array([0, 1, 2, 3, 4, 5, 6, 7, 8, 9])"
      ]
     },
     "execution_count": 17,
     "metadata": {},
     "output_type": "execute_result"
    }
   ],
   "source": [
    "np.unique(random_array)"
   ]
  },
  {
   "cell_type": "code",
   "execution_count": 46,
   "id": "74a54fd4",
   "metadata": {},
   "outputs": [
    {
     "data": {
      "text/plain": [
       "(1, 2.0, array([13, 14, 15]), (2, 4, 3))"
      ]
     },
     "execution_count": 46,
     "metadata": {},
     "output_type": "execute_result"
    }
   ],
   "source": [
    "a1[0], a2[0][1], a3[1][0:2][1], a3.shape"
   ]
  },
  {
   "cell_type": "code",
   "execution_count": 61,
   "id": "06a6561f",
   "metadata": {},
   "outputs": [
    {
     "data": {
      "text/plain": [
       "(array([[[ 1,  2],\n",
       "         [ 4,  5]],\n",
       " \n",
       "        [[10, 11],\n",
       "         [13, 14]]]),\n",
       " 18,\n",
       " array([[[ 1,  2,  3],\n",
       "         [ 4,  5,  6],\n",
       "         [ 7,  8,  9],\n",
       "         [19,  1,  1]],\n",
       " \n",
       "        [[10, 11, 12],\n",
       "         [13, 14, 15],\n",
       "         [16, 17, 18],\n",
       "         [19,  1,  1]]]))"
      ]
     },
     "execution_count": 61,
     "metadata": {},
     "output_type": "execute_result"
    }
   ],
   "source": [
    "# Slicing in arrays\n",
    "a3[:2, :2, :2], a3[1, 2, 2], a3"
   ]
  },
  {
   "cell_type": "markdown",
   "id": "11f689e7",
   "metadata": {},
   "source": [
    "## Manipulating & comparing arrays\n",
    "\n",
    "## Arithmetic"
   ]
  },
  {
   "cell_type": "code",
   "execution_count": 72,
   "id": "8fdcbbf4",
   "metadata": {},
   "outputs": [
    {
     "data": {
      "text/plain": [
       "(array([1, 2, 3]),\n",
       " array([1., 1., 1.]),\n",
       " array([[1. , 2. , 3. ],\n",
       "        [4. , 5.2, 6.4]]),\n",
       " array([[[ 1,  2,  3],\n",
       "         [ 4,  5,  6],\n",
       "         [ 7,  8,  9],\n",
       "         [19,  1,  1]],\n",
       " \n",
       "        [[10, 11, 12],\n",
       "         [13, 14, 15],\n",
       "         [16, 17, 18],\n",
       "         [19,  1,  1]]]))"
      ]
     },
     "execution_count": 72,
     "metadata": {},
     "output_type": "execute_result"
    }
   ],
   "source": [
    "ones = np.ones(3)\n",
    "a1, ones, a2, a3"
   ]
  },
  {
   "cell_type": "code",
   "execution_count": 90,
   "id": "d901ac85",
   "metadata": {},
   "outputs": [
    {
     "data": {
      "text/plain": [
       "(array([2., 3., 4.]),\n",
       " array([0., 1., 2.]),\n",
       " array([1., 2., 3.]),\n",
       " array([[1.        , 1.        , 1.        ],\n",
       "        [4.        , 2.6       , 2.13333333]]),\n",
       " array([[1.0000000e+00, 8.0000000e+00, 8.1000000e+01],\n",
       "        [1.6000000e+01, 1.4060800e+02, 1.6777216e+03]]),\n",
       " array([[1. , 0. , 1. ],\n",
       "        [0. , 1.2, 0.4]]),\n",
       " array([[  2.71828183,   7.3890561 ,  20.08553692],\n",
       "        [ 54.59815003, 181.27224188, 601.84503787]]),\n",
       " 7.387524,\n",
       " array([[0.        , 0.69314718, 1.09861229],\n",
       "        [1.38629436, 1.64865863, 1.85629799]]))"
      ]
     },
     "execution_count": 90,
     "metadata": {},
     "output_type": "execute_result"
    }
   ],
   "source": [
    "# also np.add(a1, ones) ...\n",
    "a1 + ones, a1 - ones, a1 * ones, a2 / a1, a2 ** np.array([2, 3, 4]), a2 % 2, np.exp(a2), 2.718 ** 2, np.log(a2)"
   ]
  },
  {
   "cell_type": "code",
   "execution_count": 78,
   "id": "8eed4619",
   "metadata": {},
   "outputs": [
    {
     "data": {
      "text/plain": [
       "array([[ 1. ,  4. ,  9. ],\n",
       "       [ 4. , 10.4, 19.2]])"
      ]
     },
     "execution_count": 78,
     "metadata": {},
     "output_type": "execute_result"
    }
   ],
   "source": [
    "a1 * a2"
   ]
  },
  {
   "cell_type": "code",
   "execution_count": 79,
   "id": "3a8e7367",
   "metadata": {},
   "outputs": [
    {
     "ename": "ValueError",
     "evalue": "operands could not be broadcast together with shapes (2,3) (2,4,3) ",
     "output_type": "error",
     "traceback": [
      "\u001b[1;31m---------------------------------------------------------------------------\u001b[0m",
      "\u001b[1;31mValueError\u001b[0m                                Traceback (most recent call last)",
      "\u001b[1;32m~\\AppData\\Local\\Temp/ipykernel_1960/2116579056.py\u001b[0m in \u001b[0;36m<module>\u001b[1;34m\u001b[0m\n\u001b[1;32m----> 1\u001b[1;33m \u001b[0ma2\u001b[0m \u001b[1;33m*\u001b[0m \u001b[0ma3\u001b[0m\u001b[1;33m\u001b[0m\u001b[1;33m\u001b[0m\u001b[0m\n\u001b[0m",
      "\u001b[1;31mValueError\u001b[0m: operands could not be broadcast together with shapes (2,3) (2,4,3) "
     ]
    }
   ],
   "source": [
    "a2 * a3"
   ]
  },
  {
   "cell_type": "code",
   "execution_count": 75,
   "id": "81a172f2",
   "metadata": {},
   "outputs": [
    {
     "data": {
      "text/plain": [
       "array([[[ 1. ,  4. ,  9. ],\n",
       "        [16. , 26. , 38.4],\n",
       "        [ 7. ,  8. ,  9. ],\n",
       "        [19. ,  1. ,  1. ]],\n",
       "\n",
       "       [[10. , 22. , 36. ],\n",
       "        [52. , 72.8, 96. ],\n",
       "        [16. , 17. , 18. ],\n",
       "        [19. ,  1. ,  1. ]]])"
      ]
     },
     "execution_count": 75,
     "metadata": {},
     "output_type": "execute_result"
    }
   ],
   "source": [
    "a3 * np.pad(a2, ((0,2),(0,0)), mode='constant', constant_values=1)"
   ]
  },
  {
   "cell_type": "markdown",
   "id": "c3760974",
   "metadata": {},
   "source": [
    "### Aggregation "
   ]
  },
  {
   "cell_type": "code",
   "execution_count": 91,
   "id": "5b4a0234",
   "metadata": {},
   "outputs": [
    {
     "data": {
      "text/plain": [
       "list"
      ]
     },
     "execution_count": 91,
     "metadata": {},
     "output_type": "execute_result"
    }
   ],
   "source": [
    "l_list = [1, 2, 3]\n",
    "type(l_list)"
   ]
  },
  {
   "cell_type": "markdown",
   "id": "5923a527",
   "metadata": {},
   "source": [
    "Use Python's methods ('sum()') on Python datatypes and use NumPy's methods on NumPy arrays ('np.sum()')"
   ]
  },
  {
   "cell_type": "code",
   "execution_count": 96,
   "id": "4da53dde",
   "metadata": {},
   "outputs": [
    {
     "data": {
      "text/plain": [
       "(6, 6)"
      ]
     },
     "execution_count": 96,
     "metadata": {},
     "output_type": "execute_result"
    }
   ],
   "source": [
    "sum(l_list), np.sum(a1)"
   ]
  },
  {
   "cell_type": "code",
   "execution_count": 97,
   "id": "3b8d86c0",
   "metadata": {},
   "outputs": [
    {
     "data": {
      "text/plain": [
       "array([0.76265609, 0.17170679, 0.66736918, 0.38989938, 0.65450926])"
      ]
     },
     "execution_count": 97,
     "metadata": {},
     "output_type": "execute_result"
    }
   ],
   "source": [
    "massive_array = np.random.random(10**5)\n",
    "massive_array[:5]"
   ]
  },
  {
   "cell_type": "code",
   "execution_count": 99,
   "id": "c2ca5e47",
   "metadata": {},
   "outputs": [
    {
     "name": "stdout",
     "output_type": "stream",
     "text": [
      "6.79 ms ± 77.2 µs per loop (mean ± std. dev. of 7 runs, 100 loops each)\n",
      "40.6 µs ± 518 ns per loop (mean ± std. dev. of 7 runs, 10000 loops each)\n"
     ]
    }
   ],
   "source": [
    "%timeit sum(massive_array)\n",
    "%timeit np.sum(massive_array)"
   ]
  },
  {
   "cell_type": "markdown",
   "id": "7bf055b7",
   "metadata": {},
   "source": [
    "+ Standard deviation = a measure of how spread out a group of numbers is from the mean\n",
    "+ Variance = measure of the average degree to which each number is different to the mean\n",
    "    1. Higher variance = wider range of numbers\n",
    "    2. Lower variance = lower range of numbers\n",
    "* Standard deviation = squareroot of variance"
   ]
  },
  {
   "cell_type": "code",
   "execution_count": 103,
   "id": "0f2fb2a2",
   "metadata": {},
   "outputs": [
    {
     "data": {
      "text/plain": [
       "(array([[1. , 2. , 3. ],\n",
       "        [4. , 5.2, 6.4]]),\n",
       " 3.6,\n",
       " 6.4,\n",
       " 1.0,\n",
       " 1.8366636418607882,\n",
       " 3.3733333333333335,\n",
       " 1.8366636418607882)"
      ]
     },
     "execution_count": 103,
     "metadata": {},
     "output_type": "execute_result"
    }
   ],
   "source": [
    "a2, np.mean(a2), np.max(a2), np.min(a2), np.std(a2), np.var(a2), np.sqrt(np.var(a2))"
   ]
  },
  {
   "cell_type": "markdown",
   "id": "8694420b",
   "metadata": {},
   "source": [
    "### Demo of std and var"
   ]
  },
  {
   "cell_type": "code",
   "execution_count": 104,
   "id": "60ae510c",
   "metadata": {},
   "outputs": [
    {
     "data": {
      "text/plain": [
       "(4296133.472222221, 8.0)"
      ]
     },
     "execution_count": 104,
     "metadata": {},
     "output_type": "execute_result"
    }
   ],
   "source": [
    "high_var_array = np.array([1, 100, 200, 300, 4000, 5000])\n",
    "low_var_array = np.array([2, 4, 6, 8, 10])\n",
    "np.var(high_var_array), np.var(low_var_array)"
   ]
  },
  {
   "cell_type": "code",
   "execution_count": 105,
   "id": "56237bd4",
   "metadata": {},
   "outputs": [
    {
     "data": {
      "text/plain": [
       "(2072.711623024829, 2.8284271247461903)"
      ]
     },
     "execution_count": 105,
     "metadata": {},
     "output_type": "execute_result"
    }
   ],
   "source": [
    "np.std(high_var_array), np.std(low_var_array)"
   ]
  },
  {
   "cell_type": "code",
   "execution_count": 106,
   "id": "5edb2f18",
   "metadata": {},
   "outputs": [
    {
     "data": {
      "text/plain": [
       "(1600.1666666666667, 6.0)"
      ]
     },
     "execution_count": 106,
     "metadata": {},
     "output_type": "execute_result"
    }
   ],
   "source": [
    "np.mean(high_var_array), np.mean(low_var_array)"
   ]
  },
  {
   "cell_type": "code",
   "execution_count": 109,
   "id": "4ae610cb",
   "metadata": {},
   "outputs": [
    {
     "data": {
      "text/plain": [
       "(array([4., 0., 0., 0., 0., 0., 0., 1., 0., 1.]),\n",
       " array([1.0000e+00, 5.0090e+02, 1.0008e+03, 1.5007e+03, 2.0006e+03,\n",
       "        2.5005e+03, 3.0004e+03, 3.5003e+03, 4.0002e+03, 4.5001e+03,\n",
       "        5.0000e+03]),\n",
       " <BarContainer object of 10 artists>)"
      ]
     },
     "execution_count": 109,
     "metadata": {},
     "output_type": "execute_result"
    },
    {
     "data": {
      "image/png": "[encoded data removed]",
      "text/plain": [
       "<Figure size 432x288 with 1 Axes>"
      ]
     },
     "metadata": {
      "needs_background": "light"
     },
     "output_type": "display_data"
    }
   ],
   "source": [
    "%matplotlib inline\n",
    "import matplotlib.pyplot as plt\n",
    "plt.hist(high_var_array)"
   ]
  },
  {
   "cell_type": "code",
   "execution_count": 110,
   "id": "0e6bfd05",
   "metadata": {},
   "outputs": [
    {
     "data": {
      "text/plain": [
       "(array([1., 0., 1., 0., 0., 1., 0., 1., 0., 1.]),\n",
       " array([ 2. ,  2.8,  3.6,  4.4,  5.2,  6. ,  6.8,  7.6,  8.4,  9.2, 10. ]),\n",
       " <BarContainer object of 10 artists>)"
      ]
     },
     "execution_count": 110,
     "metadata": {},
     "output_type": "execute_result"
    },
    {
     "data": {
      "image/png": "[encoded data removed]",
      "text/plain": [
       "<Figure size 432x288 with 1 Axes>"
      ]
     },
     "metadata": {
      "needs_background": "light"
     },
     "output_type": "display_data"
    }
   ],
   "source": [
    "plt.hist(low_var_array)"
   ]
  },
  {
   "cell_type": "markdown",
   "id": "236ad3cc",
   "metadata": {},
   "source": [
    "### Reshaping & transposing"
   ]
  },
  {
   "cell_type": "code",
   "execution_count": 112,
   "id": "f520ef45",
   "metadata": {},
   "outputs": [
    {
     "data": {
      "text/plain": [
       "(array([[1. , 2. , 3. ],\n",
       "        [4. , 5.2, 6.4]]),\n",
       " (2, 3),\n",
       " array([[[ 1,  2,  3],\n",
       "         [ 4,  5,  6],\n",
       "         [ 7,  8,  9],\n",
       "         [19,  1,  1]],\n",
       " \n",
       "        [[10, 11, 12],\n",
       "         [13, 14, 15],\n",
       "         [16, 17, 18],\n",
       "         [19,  1,  1]]]),\n",
       " (2, 4, 3))"
      ]
     },
     "execution_count": 112,
     "metadata": {},
     "output_type": "execute_result"
    }
   ],
   "source": [
    "a2, a2.shape, a3, a3.shape"
   ]
  },
  {
   "cell_type": "code",
   "execution_count": 121,
   "id": "670f90d4",
   "metadata": {},
   "outputs": [
    {
     "data": {
      "text/plain": [
       "array([1. , 2. , 3. , 4. , 5.2, 6.4])"
      ]
     },
     "execution_count": 121,
     "metadata": {},
     "output_type": "execute_result"
    }
   ],
   "source": [
    "a2.reshape(6)"
   ]
  },
  {
   "cell_type": "code",
   "execution_count": 126,
   "id": "ca1c21cc",
   "metadata": {},
   "outputs": [
    {
     "data": {
      "text/plain": [
       "((3, 2), (2, 3))"
      ]
     },
     "execution_count": 126,
     "metadata": {},
     "output_type": "execute_result"
    }
   ],
   "source": [
    "a2.T.shape, a2.shape"
   ]
  },
  {
   "cell_type": "code",
   "execution_count": 128,
   "id": "50283a36",
   "metadata": {},
   "outputs": [
    {
     "data": {
      "text/plain": [
       "((3, 4, 2), (2, 4, 3))"
      ]
     },
     "execution_count": 128,
     "metadata": {},
     "output_type": "execute_result"
    }
   ],
   "source": [
    "a3.T.shape, a3.shape"
   ]
  },
  {
   "cell_type": "markdown",
   "id": "bfad7278",
   "metadata": {},
   "source": [
    "## Dot product "
   ]
  },
  {
   "cell_type": "code",
   "execution_count": 138,
   "id": "56b80d90",
   "metadata": {},
   "outputs": [
    {
     "data": {
      "text/plain": [
       "(array([[5, 0, 3],\n",
       "        [3, 7, 9],\n",
       "        [3, 5, 2],\n",
       "        [4, 7, 6],\n",
       "        [8, 8, 1]]),\n",
       " array([[6, 7, 7],\n",
       "        [8, 1, 5],\n",
       "        [9, 8, 9],\n",
       "        [4, 3, 0],\n",
       "        [3, 5, 0]]),\n",
       " (5, 3),\n",
       " (5, 3),\n",
       " array([[6, 8, 9, 4, 3],\n",
       "        [7, 1, 8, 3, 5],\n",
       "        [7, 5, 9, 0, 0]]))"
      ]
     },
     "execution_count": 138,
     "metadata": {},
     "output_type": "execute_result"
    }
   ],
   "source": [
    "np.random.seed(0)\n",
    "mat1 = np.random.randint(10, size=(5, 3))\n",
    "mat2 = np.random.randint(10, size=(5, 3))\n",
    "\n",
    "mat1, mat2, mat1.shape, mat2.shape, mat2.T"
   ]
  },
  {
   "cell_type": "code",
   "execution_count": 137,
   "id": "d3806ce4",
   "metadata": {},
   "outputs": [
    {
     "data": {
      "text/plain": [
       "(array([[30,  0, 21],\n",
       "        [24,  7, 45],\n",
       "        [27, 40, 18],\n",
       "        [16, 21,  0],\n",
       "        [24, 40,  0]]),\n",
       " array([[ 51,  55,  72,  20,  15],\n",
       "        [130,  76, 164,  33,  44],\n",
       "        [ 67,  39,  85,  27,  34],\n",
       "        [115,  69, 146,  37,  47],\n",
       "        [111,  77, 145,  56,  64]]))"
      ]
     },
     "execution_count": 137,
     "metadata": {},
     "output_type": "execute_result"
    }
   ],
   "source": [
    "# Element-wise multiplication (Hadamard product) vs # Dot product 5x3 * 3x5\n",
    "mat1 * mat2, np.dot(mat1, mat2.T)"
   ]
  },
  {
   "cell_type": "markdown",
   "id": "4751a2f9",
   "metadata": {},
   "source": [
    "# Dot product example"
   ]
  },
  {
   "cell_type": "code",
   "execution_count": 162,
   "id": "a84c7cff",
   "metadata": {},
   "outputs": [
    {
     "data": {
      "text/plain": [
       "(array([[12, 15,  0],\n",
       "        [ 3,  3,  7],\n",
       "        [ 9, 19, 18],\n",
       "        [ 4,  6, 12],\n",
       "        [ 1,  6,  7]]),\n",
       " (5, 3))"
      ]
     },
     "execution_count": 162,
     "metadata": {},
     "output_type": "execute_result"
    }
   ],
   "source": [
    "np.random.seed(0)\n",
    "sales_amounts = np.random.randint(20, size=(5, 3))\n",
    "sales_amounts, sales_amounts.shape"
   ]
  },
  {
   "cell_type": "code",
   "execution_count": 163,
   "id": "193d0f9c",
   "metadata": {},
   "outputs": [
    {
     "data": {
      "text/plain": [
       "(     Almond butter  Peanut butter  Cashew butter\n",
       " Mon             12             15              0\n",
       " Tue              3              3              7\n",
       " Wed              9             19             18\n",
       " Thu              4              6             12\n",
       " Fri              1              6              7,\n",
       " array([[12, 15,  0],\n",
       "        [ 3,  3,  7],\n",
       "        [ 9, 19, 18],\n",
       "        [ 4,  6, 12],\n",
       "        [ 1,  6,  7]]))"
      ]
     },
     "execution_count": 163,
     "metadata": {},
     "output_type": "execute_result"
    }
   ],
   "source": [
    "# Create weekly_sales DataFrame\n",
    "import pandas as pd \n",
    "weekly_salses = pd.DataFrame(sales_amounts, \n",
    "                            index=[\"Mon\", \"Tue\", \"Wed\", \"Thu\", \"Fri\"],\n",
    "                            columns=[\"Almond butter\", \"Peanut butter\", \"Cashew butter\"])\n",
    "weekly_salses, weekly_salses.to_numpy()"
   ]
  },
  {
   "cell_type": "code",
   "execution_count": 164,
   "id": "8c8977b6",
   "metadata": {},
   "outputs": [
    {
     "data": {
      "text/plain": [
       "(array([[12, 15, 21]]), (1, 3))"
      ]
     },
     "execution_count": 164,
     "metadata": {},
     "output_type": "execute_result"
    }
   ],
   "source": [
    "# Create prices array\n",
    "np.random.seed(0)\n",
    "prices = np.random.randint(30, size=(1, 3))\n",
    "prices, prices.shape"
   ]
  },
  {
   "cell_type": "code",
   "execution_count": 165,
   "id": "34434618",
   "metadata": {},
   "outputs": [
    {
     "data": {
      "text/plain": [
       "(       Almond butter  Peanut butter  Cashew butter\n",
       " Price             12             15             21,\n",
       " array([[12, 15, 21]]))"
      ]
     },
     "execution_count": 165,
     "metadata": {},
     "output_type": "execute_result"
    }
   ],
   "source": [
    "butter_prices = pd.DataFrame(prices, \n",
    "                            index=[\"Price\"],\n",
    "                            columns=[\"Almond butter\", \"Peanut butter\", \"Cashew butter\"])\n",
    "butter_prices, butter_prices.to_numpy()"
   ]
  },
  {
   "cell_type": "code",
   "execution_count": 166,
   "id": "fd39556a",
   "metadata": {},
   "outputs": [
    {
     "data": {
      "text/html": [
       "<div>\n",
       "<style scoped>\n",
       "    .dataframe tbody tr th:only-of-type {\n",
       "        vertical-align: middle;\n",
       "    }\n",
       "\n",
       "    .dataframe tbody tr th {\n",
       "        vertical-align: top;\n",
       "    }\n",
       "\n",
       "    .dataframe thead th {\n",
       "        text-align: right;\n",
       "    }\n",
       "</style>\n",
       "<table border=\"1\" class=\"dataframe\">\n",
       "  <thead>\n",
       "    <tr style=\"text-align: right;\">\n",
       "      <th></th>\n",
       "      <th>Almond butter</th>\n",
       "      <th>Peanut butter</th>\n",
       "      <th>Cashew butter</th>\n",
       "      <th>Total</th>\n",
       "    </tr>\n",
       "  </thead>\n",
       "  <tbody>\n",
       "    <tr>\n",
       "      <th>Mon</th>\n",
       "      <td>12</td>\n",
       "      <td>15</td>\n",
       "      <td>0</td>\n",
       "      <td>369</td>\n",
       "    </tr>\n",
       "    <tr>\n",
       "      <th>Tue</th>\n",
       "      <td>3</td>\n",
       "      <td>3</td>\n",
       "      <td>7</td>\n",
       "      <td>228</td>\n",
       "    </tr>\n",
       "    <tr>\n",
       "      <th>Wed</th>\n",
       "      <td>9</td>\n",
       "      <td>19</td>\n",
       "      <td>18</td>\n",
       "      <td>771</td>\n",
       "    </tr>\n",
       "    <tr>\n",
       "      <th>Thu</th>\n",
       "      <td>4</td>\n",
       "      <td>6</td>\n",
       "      <td>12</td>\n",
       "      <td>390</td>\n",
       "    </tr>\n",
       "    <tr>\n",
       "      <th>Fri</th>\n",
       "      <td>1</td>\n",
       "      <td>6</td>\n",
       "      <td>7</td>\n",
       "      <td>249</td>\n",
       "    </tr>\n",
       "  </tbody>\n",
       "</table>\n",
       "</div>"
      ],
      "text/plain": [
       "     Almond butter  Peanut butter  Cashew butter  Total\n",
       "Mon             12             15              0    369\n",
       "Tue              3              3              7    228\n",
       "Wed              9             19             18    771\n",
       "Thu              4              6             12    390\n",
       "Fri              1              6              7    249"
      ]
     },
     "execution_count": 166,
     "metadata": {},
     "output_type": "execute_result"
    }
   ],
   "source": [
    "weekly_salses[\"Total\"] = np.dot(weekly_salses.to_numpy(), butter_prices.to_numpy().T)\n",
    "weekly_salses"
   ]
  },
  {
   "cell_type": "markdown",
   "id": "c6ede5e9",
   "metadata": {},
   "source": [
    "### Comparison Operators"
   ]
  },
  {
   "cell_type": "code",
   "execution_count": 168,
   "id": "589c40a1",
   "metadata": {},
   "outputs": [
    {
     "data": {
      "text/plain": [
       "(array([1, 2, 3]),\n",
       " array([[1. , 2. , 3. ],\n",
       "        [4. , 5.2, 6.4]]))"
      ]
     },
     "execution_count": 168,
     "metadata": {},
     "output_type": "execute_result"
    }
   ],
   "source": [
    "a1, a2"
   ]
  },
  {
   "cell_type": "code",
   "execution_count": 176,
   "id": "be20eb7d",
   "metadata": {},
   "outputs": [
    {
     "data": {
      "text/plain": [
       "(array([[False, False, False],\n",
       "        [ True,  True,  True]]),\n",
       " numpy.ndarray,\n",
       " array([[ True,  True,  True],\n",
       "        [False, False, False]]),\n",
       " array([False, False,  True]))"
      ]
     },
     "execution_count": 176,
     "metadata": {},
     "output_type": "execute_result"
    }
   ],
   "source": [
    "bool_array = a1 < a2\n",
    "bool_array, type(bool_array), a1 == a2, a1 == 3"
   ]
  },
  {
   "cell_type": "markdown",
   "id": "070708aa",
   "metadata": {},
   "source": [
    "### Sorting arrays"
   ]
  },
  {
   "cell_type": "code",
   "execution_count": 183,
   "id": "50096b31",
   "metadata": {},
   "outputs": [
    {
     "data": {
      "text/plain": [
       "(array([[2, 7, 2, 0, 0],\n",
       "        [4, 5, 5, 6, 8],\n",
       "        [4, 1, 4, 9, 8]]),\n",
       " array([[3, 4, 0, 2, 1],\n",
       "        [0, 1, 2, 3, 4],\n",
       "        [1, 0, 2, 4, 3]], dtype=int64),\n",
       " array([[0, 0, 2, 2, 7],\n",
       "        [4, 5, 5, 6, 8],\n",
       "        [1, 4, 4, 8, 9]]))"
      ]
     },
     "execution_count": 183,
     "metadata": {},
     "output_type": "execute_result"
    }
   ],
   "source": [
    "random_array = np.random.randint(10, size=(3, 5))\n",
    "random_array, np.argsort(random_array), np.sort(random_array)"
   ]
  },
  {
   "cell_type": "code",
   "execution_count": 187,
   "id": "b8a49337",
   "metadata": {},
   "outputs": [
    {
     "data": {
      "text/plain": [
       "(array([1, 4, 3], dtype=int64),\n",
       " array([0, 2, 0, 0, 0], dtype=int64),\n",
       " array([[2, 7, 2, 0, 0],\n",
       "        [4, 5, 5, 6, 8],\n",
       "        [4, 1, 4, 9, 8]]))"
      ]
     },
     "execution_count": 187,
     "metadata": {},
     "output_type": "execute_result"
    }
   ],
   "source": [
    "np.argmax(random_array, axis=1), np.argmin(random_array, axis=0), random_array"
   ]
  },
  {
   "cell_type": "markdown",
   "id": "9ae23d77",
   "metadata": {},
   "source": [
    "## Practical Example\n",
    "\n",
    "<img src=\"data/data-analysis/numpy-images/panda.png\">"
   ]
  },
  {
   "cell_type": "code",
   "execution_count": 195,
   "id": "8be55235",
   "metadata": {},
   "outputs": [
    {
     "data": {
      "text/plain": [
       "(numpy.ndarray,\n",
       " array([[[0.05490196, 0.10588235, 0.06666667],\n",
       "         [0.05490196, 0.10588235, 0.06666667],\n",
       "         [0.05490196, 0.10588235, 0.06666667],\n",
       "         ...,\n",
       "         [0.16470589, 0.12941177, 0.09411765],\n",
       "         [0.16470589, 0.12941177, 0.09411765],\n",
       "         [0.16470589, 0.12941177, 0.09411765]]], dtype=float32),\n",
       " 24465000,\n",
       " (2330, 3500, 3),\n",
       " 3)"
      ]
     },
     "execution_count": 195,
     "metadata": {},
     "output_type": "execute_result"
    }
   ],
   "source": [
    "# Turn an image into a NumPy array\n",
    "from matplotlib.image import imread\n",
    "\n",
    "panda = imread(\"data/data-analysis/numpy-images/panda.png\")\n",
    "type(panda), panda[:1], panda.size, panda.shape, panda.ndim"
   ]
  },
  {
   "cell_type": "markdown",
   "id": "1cb2cb7f",
   "metadata": {},
   "source": [
    "<img src=\"data/data-analysis/numpy-images/car-photo.png\">"
   ]
  },
  {
   "cell_type": "code",
   "execution_count": 197,
   "id": "bb8359da",
   "metadata": {},
   "outputs": [
    {
     "data": {
      "text/plain": [
       "(numpy.ndarray,\n",
       " array([[[0.5019608 , 0.50980395, 0.4862745 , 1.        ],\n",
       "         [0.3372549 , 0.34509805, 0.30588236, 1.        ],\n",
       "         [0.20392157, 0.21568628, 0.14901961, 1.        ],\n",
       "         ...,\n",
       "         [0.64705884, 0.7058824 , 0.54901963, 1.        ],\n",
       "         [0.59607846, 0.63529414, 0.45882353, 1.        ],\n",
       "         [0.44705883, 0.47058824, 0.3372549 , 1.        ]]], dtype=float32),\n",
       " 991300,\n",
       " (431, 575, 4),\n",
       " 3)"
      ]
     },
     "execution_count": 197,
     "metadata": {},
     "output_type": "execute_result"
    }
   ],
   "source": [
    "car = imread(\"data/data-analysis/numpy-images/car-photo.png\")\n",
    "type(car), car[:1], car.size, car.shape, car.ndim"
   ]
  },
  {
   "cell_type": "code",
   "execution_count": 199,
   "id": "b3fed9c0",
   "metadata": {},
   "outputs": [
    {
     "data": {
      "text/plain": [
       "(numpy.ndarray,\n",
       " array([[[0.70980394, 0.80784315, 0.88235295, 1.        ],\n",
       "         [0.72156864, 0.8117647 , 0.8862745 , 1.        ],\n",
       "         [0.7411765 , 0.8156863 , 0.8862745 , 1.        ],\n",
       "         ...,\n",
       "         [0.49803922, 0.6862745 , 0.8392157 , 1.        ],\n",
       "         [0.49411765, 0.68235296, 0.8392157 , 1.        ],\n",
       "         [0.49411765, 0.68235296, 0.8352941 , 1.        ]]], dtype=float32),\n",
       " 993600,\n",
       " (432, 575, 4),\n",
       " 3)"
      ]
     },
     "execution_count": 199,
     "metadata": {},
     "output_type": "execute_result"
    }
   ],
   "source": [
    "dog = imread(\"data/data-analysis/numpy-images/dog-photo.png\")\n",
    "type(dog), dog[:1], dog.size, dog.shape, dog.ndim"
   ]
  },
  {
   "cell_type": "code",
   "execution_count": null,
   "id": "faa8655d",
   "metadata": {},
   "outputs": [],
   "source": []
  }
 ],
 "metadata": {
  "kernelspec": {
   "display_name": "Python 3 (ipykernel)",
   "language": "python",
   "name": "python3"
  },
  "language_info": {
   "codemirror_mode": {
    "name": "ipython",
    "version": 3
   },
   "file_extension": ".py",
   "mimetype": "text/x-python",
   "name": "python",
   "nbconvert_exporter": "python",
   "pygments_lexer": "ipython3",
   "version": "3.9.7"
  }
 },
 "nbformat": 4,
 "nbformat_minor": 5
}
